{
  "nbformat": 4,
  "nbformat_minor": 0,
  "metadata": {
    "colab": {
      "provenance": [],
      "authorship_tag": "ABX9TyMeaXGszgmFAsofgyMOEmvN",
      "include_colab_link": true
    },
    "kernelspec": {
      "name": "python3",
      "display_name": "Python 3"
    },
    "language_info": {
      "name": "python"
    }
  },
  "cells": [
    {
      "cell_type": "markdown",
      "metadata": {
        "id": "view-in-github",
        "colab_type": "text"
      },
      "source": [
        "<a href=\"https://colab.research.google.com/github/gunners-pro/atividade-varejo/blob/main/atividade_varejo.ipynb\" target=\"_parent\"><img src=\"https://colab.research.google.com/assets/colab-badge.svg\" alt=\"Open In Colab\"/></a>"
      ]
    },
    {
      "cell_type": "markdown",
      "source": [
        "#Instalação do PySpark e criação da Sessão"
      ],
      "metadata": {
        "id": "dun3qCsairD-"
      }
    },
    {
      "cell_type": "code",
      "execution_count": 17,
      "metadata": {
        "colab": {
          "base_uri": "https://localhost:8080/"
        },
        "id": "w4_FsGU4bLHG",
        "outputId": "f6b13981-f898-4a2a-c002-92a34c90ca44"
      },
      "outputs": [
        {
          "output_type": "stream",
          "name": "stdout",
          "text": [
            "Requirement already satisfied: pyspark in /usr/local/lib/python3.10/dist-packages (3.5.1)\n",
            "Requirement already satisfied: py4j==0.10.9.7 in /usr/local/lib/python3.10/dist-packages (from pyspark) (0.10.9.7)\n"
          ]
        }
      ],
      "source": [
        "%pip install pyspark"
      ]
    },
    {
      "cell_type": "code",
      "source": [
        "from pyspark.sql import SparkSession\n",
        "\n",
        "spark = SparkSession.builder.getOrCreate()"
      ],
      "metadata": {
        "id": "Wqxu5lzVeq_6"
      },
      "execution_count": 18,
      "outputs": []
    },
    {
      "cell_type": "markdown",
      "source": [
        "##1. Crie uma consulta que mostre, nesta ordem, nome, estado e status."
      ],
      "metadata": {
        "id": "aJOL52eOkzRt"
      }
    },
    {
      "cell_type": "code",
      "source": [
        "df_clientes = spark.read.parquet(\"dados/Clientes.parquet\")\n",
        "\n",
        "df_clientes.select(\"Cliente\", \"Estado\", \"Status\").show()"
      ],
      "metadata": {
        "colab": {
          "base_uri": "https://localhost:8080/"
        },
        "id": "eykNXQxblXqc",
        "outputId": "8278d3ef-6458-4146-fd73-a37712712651"
      },
      "execution_count": 20,
      "outputs": [
        {
          "output_type": "stream",
          "name": "stdout",
          "text": [
            "+--------------------+------+--------+\n",
            "|             Cliente|Estado|  Status|\n",
            "+--------------------+------+--------+\n",
            "|Adelina Buenaventura|    RJ|  Silver|\n",
            "|        Adelino Gago|    RJ|  Silver|\n",
            "|     Adolfo Patrício|    PE|  Silver|\n",
            "|    Adriana Guedelha|    RO|Platinum|\n",
            "|       Adélio Lisboa|    SE|  Silver|\n",
            "|       Adérito Bahía|    MA|  Silver|\n",
            "|       Aida Dorneles|    RN|  Silver|\n",
            "|   Alarico Quinterno|    AC|  Silver|\n",
            "|    Alberto Cezimbra|    AM|  Silver|\n",
            "|    Alberto Monsanto|    RN|    Gold|\n",
            "|       Albino Canela|    AC|  Silver|\n",
            "|     Alceste Varanda|    RR|  Silver|\n",
            "|  Alcides Carvalhais|    RO|  Silver|\n",
            "|        Aldo Martins|    GO|  Silver|\n",
            "|   Alexandra Tabares|    MG|  Silver|\n",
            "|      Alfredo Cotrim|    SC|  Silver|\n",
            "|     Almeno Figueira|    SC|  Silver|\n",
            "|      Alvito Peralta|    AM|  Silver|\n",
            "|     Amadeu Martinho|    RN|  Silver|\n",
            "|      Amélia Estévez|    PE|  Silver|\n",
            "+--------------------+------+--------+\n",
            "only showing top 20 rows\n",
            "\n"
          ]
        }
      ]
    },
    {
      "cell_type": "markdown",
      "source": [
        "##2. Crie uma consulta que mostre apenas os clientes do Status \"platinum\" e \"gold\"."
      ],
      "metadata": {
        "id": "U9bZPzDJmSe1"
      }
    },
    {
      "cell_type": "code",
      "source": [
        "from pyspark.sql.functions import col\n",
        "condition = [\"Platinum\", \"Gold\"]\n",
        "\n",
        "df_clientes.filter(col(\"Status\").isin(condition)).show()"
      ],
      "metadata": {
        "colab": {
          "base_uri": "https://localhost:8080/"
        },
        "id": "YPyz6T4TmXCy",
        "outputId": "92af603b-2775-45d3-acec-8b174a5fe9f7"
      },
      "execution_count": 33,
      "outputs": [
        {
          "output_type": "stream",
          "name": "stdout",
          "text": [
            "+---------+-------------------+------+------+--------+\n",
            "|ClienteID|            Cliente|Estado|Genero|  Status|\n",
            "+---------+-------------------+------+------+--------+\n",
            "|        4|   Adriana Guedelha|    RO|     F|Platinum|\n",
            "|       10|   Alberto Monsanto|    RN|     M|    Gold|\n",
            "|       28|      Anna Carvajal|    RS|     F|    Gold|\n",
            "|       49|      Bento Quintão|    SP|     M|    Gold|\n",
            "|       68|      Carminda Dias|    AM|     F|    Gold|\n",
            "|       83|      Cláudio Jorge|    TO|     M|    Gold|\n",
            "|      121|    Dionísio Saltão|    PR|     M|    Gold|\n",
            "|      166|   Firmino Meireles|    AM|     M|    Gold|\n",
            "|      170|      Flor Vilanova|    CE|     M|Platinum|\n",
            "|      220|Honorina Villaverde|    PE|     F|    Gold|\n",
            "|      230|    Ibijara Botelho|    RR|     F|Platinum|\n",
            "|      237|  Iracema Rodríguez|    BA|     F|    Gold|\n",
            "|      247|         Joana Ataí|    GO|     F|Platinum|\n",
            "+---------+-------------------+------+------+--------+\n",
            "\n"
          ]
        }
      ]
    },
    {
      "cell_type": "markdown",
      "source": [
        "##3. Demonstre quanto cada Status de clientes representa em vendas"
      ],
      "metadata": {
        "id": "GG3AN2ENwt3E"
      }
    },
    {
      "cell_type": "code",
      "source": [
        "df_vendas = spark.read.parquet(\"dados/Vendas.parquet\")"
      ],
      "metadata": {
        "id": "SpqK6jiSw3cd"
      },
      "execution_count": 59,
      "outputs": []
    },
    {
      "cell_type": "code",
      "source": [
        "from pyspark.sql.functions import sum, round\n",
        "\n",
        "df = df_clientes.join(df_vendas, df_clientes.ClienteID == df_vendas.ClienteID)\n",
        "df.groupby(\"Status\").agg(round(sum(\"Total\"), 2).alias(\"Soma Total Por Status\")).show()"
      ],
      "metadata": {
        "colab": {
          "base_uri": "https://localhost:8080/"
        },
        "id": "CU8vFBaxx9V4",
        "outputId": "6845b947-f80a-41bf-f839-57fec9095501"
      },
      "execution_count": 60,
      "outputs": [
        {
          "output_type": "stream",
          "name": "stdout",
          "text": [
            "+--------+---------------------+\n",
            "|  Status|Soma Total Por Status|\n",
            "+--------+---------------------+\n",
            "|Platinum|             12584.68|\n",
            "|  Silver|           3014291.36|\n",
            "|    Gold|             27286.69|\n",
            "+--------+---------------------+\n",
            "\n"
          ]
        }
      ]
    }
  ]
}